{
  "cells": [
    {
      "cell_type": "markdown",
      "metadata": {
        "id": "view-in-github",
        "colab_type": "text"
      },
      "source": [
        "<a href=\"https://colab.research.google.com/github/abdelhaq0000/Miathon/blob/main/model%20predict%20pv.ipynb\" target=\"_parent\"><img src=\"https://colab.research.google.com/assets/colab-badge.svg\" alt=\"Open In Colab\"/></a>"
      ]
    },
    {
      "cell_type": "code",
      "execution_count": null,
      "metadata": {
        "colab": {
          "base_uri": "https://localhost:8080/"
        },
        "id": "UgvioiRAZtH8",
        "outputId": "9697dab3-1076-44e8-8db4-45c8b1891954"
      },
      "outputs": [
        {
          "output_type": "stream",
          "name": "stdout",
          "text": [
            "Mean Absolute Error (MAE): 266.278171156813\n",
            "Mean Squared Error (MSE): 169238.1766517033\n",
            "Root Mean Squared Error (RMSE): 411.385678714881\n",
            "R^2 Score: 0.9959415128365234\n",
            "Predicted production for 1: 11092.745996555197\n",
            "Predicted production for 2: 13590.101397658378\n",
            "Predicted production for 3: 20814.036229683836\n",
            "Predicted production for 4: 22372.268001957586\n",
            "Predicted production for 5: 27022.593293392165\n",
            "Predicted production for 6: 37058.485705112114\n",
            "Predicted production for 7: 39073.54018554357\n",
            "Predicted production for 8: 38809.856373582945\n",
            "Predicted production for 9: 33163.23401039895\n",
            "Predicted production for 10: 22892.0729557746\n",
            "Predicted production for 11: 14239.270429784658\n",
            "Predicted production for 12: 13196.531793038914\n"
          ]
        }
      ],
      "source": [
        "import pandas as pd\n",
        "from sklearn.model_selection import train_test_split\n",
        "from sklearn.linear_model import LinearRegression\n",
        "from sklearn.metrics import mean_absolute_error, mean_squared_error, r2_score\n",
        "\n",
        "# Load the dataset\n",
        "file_path = '/content/drive/MyDrive/Colab Notebooks/dataaabbb.csv'\n",
        "data = pd.read_csv(file_path)\n",
        "\n",
        "# Define features (X) and target (y)\n",
        "X = data.drop(columns=['production en','GHI'])\n",
        "y = data['production en']\n",
        "\n",
        "# Split the data into training and testing sets\n",
        "X_train, X_test, y_train, y_test = train_test_split(X, y, test_size=0.2, random_state=42)\n",
        "\n",
        "# Initialize the model\n",
        "model = LinearRegression()\n",
        "\n",
        "# Train the model\n",
        "model.fit(X_train, y_train)\n",
        "\n",
        "# Make predictions\n",
        "y_pred = model.predict(X_test)\n",
        "\n",
        "# Evaluate the model\n",
        "mae = mean_absolute_error(y_test, y_pred)\n",
        "mse = mean_squared_error(y_test, y_pred)\n",
        "rmse = mse ** 0.5\n",
        "r2 = r2_score(y_test, y_pred)\n",
        "\n",
        "# Output the results\n",
        "print(\"Mean Absolute Error (MAE):\", mae)\n",
        "print(\"Mean Squared Error (MSE):\", mse)\n",
        "print(\"Root Mean Squared Error (RMSE):\", rmse)\n",
        "print(\"R^2 Score:\", r2)\n",
        "\n",
        "# Function to predict production based on user input\n",
        "def predict_production(model, input_data):\n",
        "    input_df = pd.DataFrame([input_data], columns=X.columns)\n",
        "    prediction = model.predict(input_df)\n",
        "    return prediction[0]\n",
        "\n",
        "# New data input based on the provided values in the image\n",
        "all_months_data = [\n",
        "    {'Month': 1, 'Avg High Temp': 16, 'Avg Low Temp': 4, 'Avg Precipitation': 30, 'Avg Sunshine Hours': 7.5, 'Avg Humidity': 69, 'Irradiance': 2.7, 'DNI': 3.079497633, 'DHI': 2.635382628, 'Temprature de l\\'air': 10, 'Vitesse du vent': 5.714670722, 'Direction du vent': 25.25905423, 'Couverture nuageuse': 39.93100739, 'Pression atmosphrique': 978.3696262, 'Altitude': 470, 'Latitude': 34.68, 'Longitude': -1.91},\n",
        "    {'Month': 2, 'Avg High Temp': 17, 'Avg Low Temp': 5, 'Avg Precipitation': 39, 'Avg Sunshine Hours': 8, 'Avg Humidity': 71, 'Irradiance': 3.3, 'DNI': 3.757536092, 'DHI': 2.413311863, 'Temprature de l\\'air': 11, 'Vitesse du vent': 3.198322523, 'Direction du vent': 179.1217718, 'Couverture nuageuse': 27.99539178, 'Pression atmosphrique': 981.1194806, 'Altitude': 470, 'Latitude': 34.68, 'Longitude': -1.91},\n",
        "    {'Month': 3, 'Avg High Temp': 20, 'Avg Low Temp': 7, 'Avg Precipitation': 30, 'Avg Sunshine Hours': 9, 'Avg Humidity': 71, 'Irradiance': 4.4, 'DNI': 4.622292564, 'DHI': 3.629652105, 'Temprature de l\\'air': 13.5, 'Vitesse du vent': 4.606984331, 'Direction du vent': 309.1108577, 'Couverture nuageuse': 53.24071367, 'Pression atmosphrique': 1031.392299, 'Altitude': 470, 'Latitude': 34.68, 'Longitude': -1.91},\n",
        "    {'Month': 4, 'Avg High Temp': 22, 'Avg Low Temp': 10, 'Avg Precipitation': 40, 'Avg Sunshine Hours': 10.5, 'Avg Humidity': 69, 'Irradiance': 5.8, 'DNI': 4.707858292, 'DHI': 3.893205862, 'Temprature de l\\'air': 16, 'Vitesse du vent': 6.997575736, 'Direction du vent': 25.74640699, 'Couverture nuageuse': 39.59176979, 'Pression atmosphrique': 1016.59802, 'Altitude': 470, 'Latitude': 34.68, 'Longitude': -1.91},\n",
        "    {'Month': 5, 'Avg High Temp': 26, 'Avg Low Temp': 12, 'Avg Precipitation': 35, 'Avg Sunshine Hours': 12, 'Avg Humidity': 64, 'Irradiance': 7.1, 'DNI': 5.953404493, 'DHI': 6.564039782, 'Temprature de l\\'air': 19, 'Vitesse du vent': 7.421180292, 'Direction du vent': 75.91794192, 'Couverture nuageuse': 21.21933708, 'Pression atmosphrique': 983.7465945, 'Altitude': 470, 'Latitude': 34.68, 'Longitude': -1.91},\n",
        "    {'Month': 6, 'Avg High Temp': 30, 'Avg Low Temp': 15, 'Avg Precipitation': 7, 'Avg Sunshine Hours': 14, 'Avg Humidity': 55, 'Irradiance': 8.4, 'DNI': 7.64941441, 'DHI': 7.695395565, 'Temprature de l\\'air': 22.5, 'Vitesse du vent': 9.416842895, 'Direction du vent': 0.009013171, 'Couverture nuageuse': 47.1398401, 'Pression atmosphrique': 1046.237499, 'Altitude': 470, 'Latitude': 34.68, 'Longitude': -1.91},\n",
        "    {'Month': 7, 'Avg High Temp': 34, 'Avg Low Temp': 19, 'Avg Precipitation': 5, 'Avg Sunshine Hours': 14.5, 'Avg Humidity': 51, 'Irradiance': 9.5, 'DNI': 8.36153819, 'DHI': 5.975084339, 'Temprature de l\\'air': 26.5, 'Vitesse du vent': 8.47673808, 'Direction du vent': 138.8815796, 'Couverture nuageuse': 25.16009328, 'Pression atmosphrique': 1036.827851, 'Altitude': 470, 'Latitude': 34.68, 'Longitude': -1.91},\n",
        "    {'Month': 8, 'Avg High Temp': 34, 'Avg Low Temp': 19, 'Avg Precipitation': 4, 'Avg Sunshine Hours': 14, 'Avg Humidity': 52, 'Irradiance': 8.8, 'DNI': 8.73695165, 'DHI': 5.399707135, 'Temprature de l\\'air': 26.5, 'Vitesse du vent': 7.127486429, 'Direction du vent': 262.4399854, 'Couverture nuageuse': 47.29927662, 'Pression atmosphrique': 1035.381976, 'Altitude': 470, 'Latitude': 34.68, 'Longitude': -1.91},\n",
        "    {'Month': 9, 'Avg High Temp': 30, 'Avg Low Temp': 17, 'Avg Precipitation': 20, 'Avg Sunshine Hours': 12.5, 'Avg Humidity': 60, 'Irradiance': 7.2, 'DNI': 7.446494632, 'DHI': 5.349251085, 'Temprature de l\\'air': 23.5, 'Vitesse du vent': 8.775828647, 'Direction du vent': 316.6611338, 'Couverture nuageuse': 31.4716816, 'Pression atmosphrique': 1037.552705, 'Altitude': 470, 'Latitude': 34.68, 'Longitude': -1.91},\n",
        "    {'Month': 10, 'Avg High Temp': 24, 'Avg Low Temp': 13, 'Avg Precipitation': 34, 'Avg Sunshine Hours': 10, 'Avg Humidity': 65, 'Irradiance': 5.1, 'DNI': 5.739174596, 'DHI': 5.07619468, 'Temprature de l\\'air': 18.5, 'Vitesse du vent': 9.11435901, 'Direction du vent': 264.448807, 'Couverture nuageuse': 20.43377767, 'Pression atmosphrique': 985.2589133, 'Altitude': 470, 'Latitude': 34.68, 'Longitude': -1.91},\n",
        "    {'Month': 11, 'Avg High Temp': 19, 'Avg Low Temp': 8, 'Avg Precipitation': 37, 'Avg Sunshine Hours': 8, 'Avg Humidity': 69, 'Irradiance': 3.6, 'DNI': 3.3192713, 'DHI': 2.39482489, 'Temprature de l\\'air': 13.5, 'Vitesse du vent': 2.362646731, 'Direction du vent': 93.9064533, 'Couverture nuageuse': 76.5751223, 'Pression atmosphrique': 997.4492587, 'Altitude': 470, 'Latitude': 34.68, 'Longitude': -1.91},\n",
        "    {'Month': 12, 'Avg High Temp': 15, 'Avg Low Temp': 5, 'Avg Precipitation': 40, 'Avg Sunshine Hours': 7, 'Avg Humidity': 71, 'Irradiance': 2.8, 'DNI': 2.690783769, 'DHI': 2.36992592, 'Temprature de l\\'air': 10, 'Vitesse du vent': 9.464759851, 'Direction du vent': 235.9183694, 'Couverture nuageuse': 46.61217976, 'Pression atmosphrique': 1033.43811, 'Altitude': 470, 'Latitude': 34.68, 'Longitude': -1.91}\n",
        "]\n",
        "\n",
        "# Predict production for each month\n",
        "for month_data in all_months_data:\n",
        "    predicted_production = predict_production(model, month_data)\n",
        "    print(f\"Predicted production for {month_data['Month']}: {predicted_production}\")\n"
      ]
    },
    {
      "cell_type": "code",
      "source": [],
      "metadata": {
        "id": "ic0WnBFylm4P"
      },
      "execution_count": null,
      "outputs": []
    },
    {
      "cell_type": "code",
      "execution_count": null,
      "metadata": {
        "id": "1hWDg4lPZhZF"
      },
      "outputs": [],
      "source": []
    }
  ],
  "metadata": {
    "accelerator": "GPU",
    "colab": {
      "gpuType": "T4",
      "provenance": [],
      "mount_file_id": "1gkCRy_0abN1LW4wMabCNKILIhP9Pd1-r",
      "authorship_tag": "ABX9TyPRKpoaOmJlwPqAdC9oLmvD",
      "include_colab_link": true
    },
    "kernelspec": {
      "display_name": "Python 3",
      "name": "python3"
    },
    "language_info": {
      "name": "python"
    }
  },
  "nbformat": 4,
  "nbformat_minor": 0
}